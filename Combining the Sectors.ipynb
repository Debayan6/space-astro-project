{
 "cells": [
  {
   "cell_type": "code",
   "execution_count": 1,
   "id": "5ee2deb9",
   "metadata": {},
   "outputs": [],
   "source": [
    "# Importing the Lightkurve package, which is used for manipulating and analyzing light curves from space telescopes.\n",
    "# Light curves are graphs of brightness over time, crucial for detecting exoplanets by observing transits.\n",
    "\n",
    "import lightkurve as lk  \n",
    "\n",
    "import numpy as np     \n",
    "import matplotlib.pyplot as plt \n",
    "import os"
   ]
  },
  {
   "cell_type": "code",
   "execution_count": 2,
   "id": "76e598f0",
   "metadata": {},
   "outputs": [],
   "source": [
    "# Define the TOI (TESS Object of Interest) ID of a Target.\n",
    "# TOI ID is a unique identifier assigned to potential exoplanet candidates observed by TESS.\n",
    "\n",
    "TOI_ID = '1011'  # Use only the number part of the TOI ID (e.g., if TOI is 111, write 111)\n",
    "\n",
    "# Provide a path to the directory containing the .fits (Flexible Image Transport System) files.\n",
    "# .fits files are a standard format for astronomical data, used to store light curves from telescopes like TESS.\n",
    "\n",
    "os.chdir('C:\\\\Users\\\\nandh\\\\OneDrive\\\\Desktop\\\\SS\\\\TOI-1011\\\\lc_fits')  \n",
    "\n",
    "\n",
    "# Load and normalize light curve data from TESS.\n",
    "# Normalization makes it easier to identify changes in brightness due to transits or other phenomena.\n",
    "file_34 = lk.read('tess2021014023720-s0034-0000000114018671-0204-s_lc.fits').normalize()  # Read and normalize light curve from sector 34.\n",
    "file_61 = lk.read('tess2023018032328-s0061-0000000114018671-0250-s_lc.fits').normalize()  # Read and normalize light curve from sector 61.\n",
    "\n",
    "# Change the working directory to another path where further results and analyses will be stored.\n",
    "os.chdir('C:\\\\Users\\\\nandh\\\\OneDrive\\\\Desktop\\\\SS\\\\TOI-1011')  "
   ]
  },
  {
   "cell_type": "code",
   "execution_count": 3,
   "id": "1cbef43a",
   "metadata": {},
   "outputs": [],
   "source": [
    "# Combine all available Light Curves for the specified TOI (Target of Interest).\n",
    "# This is done to create a comprehensive dataset, merging observations from different sectors.\n",
    "# Additional light curves can be added or removed based on the total number of files available.\n",
    "Combined_TOI = file_34.append([file_61]) "
   ]
  },
  {
   "cell_type": "code",
   "execution_count": 4,
   "id": "ee52777c",
   "metadata": {},
   "outputs": [],
   "source": [
    "# Extract PDCSAP flux and error from the combined light curve.\n",
    "# PDCSAP (Pre-search Data Conditioning Simple Aperture Photometry) flux is a measure of brightness used for detecting exoplanet transits.\n",
    "\n",
    "pdcsap = Combined_TOI.flux  # Get the flux data (brightness) from the combined light curve.\n",
    "pdcsap_err = Combined_TOI.flux_err  # Get the corresponding error values for the flux data.\n",
    "\n",
    "# Add the extracted PDCSAP and error columns to the existing .fits file.\n",
    "# This operation creates a new FITS file with the combined light curve and additional columns for modeling.\n",
    "processed_lc = Combined_TOI.to_fits(\n",
    "    path='Detrended & Combined Lightcurves/Combined TOI ' + TOI_ID + '.fits',  # Define the file path and name for the output FITS file.\n",
    "    overwrite=True,  # Overwrite the existing file if it already exists.\n",
    "    pdcsap_flux=pdcsap,  # Add the PDCSAP flux column.\n",
    "    pdcsap_flux_err=pdcsap_err  # Add the PDCSAP error column.\n",
    ")\n"
   ]
  }
 ],
 "metadata": {
  "kernelspec": {
   "display_name": "Python 3 (ipykernel)",
   "language": "python",
   "name": "python3"
  },
  "language_info": {
   "codemirror_mode": {
    "name": "ipython",
    "version": 3
   },
   "file_extension": ".py",
   "mimetype": "text/x-python",
   "name": "python",
   "nbconvert_exporter": "python",
   "pygments_lexer": "ipython3",
   "version": "3.11.7"
  }
 },
 "nbformat": 4,
 "nbformat_minor": 5
}
